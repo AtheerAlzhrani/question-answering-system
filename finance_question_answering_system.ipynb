{
  "nbformat": 4,
  "nbformat_minor": 0,
  "metadata": {
    "colab": {
      "provenance": []
    },
    "kernelspec": {
      "name": "python3",
      "display_name": "Python 3"
    },
    "language_info": {
      "name": "python"
    }
  },
  "cells": [
    {
      "cell_type": "markdown",
      "source": [
        "# Step1:Import necessary libraries"
      ],
      "metadata": {
        "id": "C8mLQTJ_VGrJ"
      }
    },
    {
      "cell_type": "code",
      "execution_count": 1,
      "metadata": {
        "id": "iSIIb6ey0POS"
      },
      "outputs": [],
      "source": [
        "!pip install -q llama-index"
      ]
    },
    {
      "cell_type": "code",
      "source": [
        "pip install pdfplumber"
      ],
      "metadata": {
        "colab": {
          "base_uri": "https://localhost:8080/"
        },
        "id": "9PSCJef-KR2P",
        "outputId": "67d9919d-5565-49d9-b761-738ea63e6844"
      },
      "execution_count": 2,
      "outputs": [
        {
          "output_type": "stream",
          "name": "stdout",
          "text": [
            "Requirement already satisfied: pdfplumber in /usr/local/lib/python3.10/dist-packages (0.11.4)\n",
            "Requirement already satisfied: pdfminer.six==20231228 in /usr/local/lib/python3.10/dist-packages (from pdfplumber) (20231228)\n",
            "Requirement already satisfied: Pillow>=9.1 in /usr/local/lib/python3.10/dist-packages (from pdfplumber) (10.4.0)\n",
            "Requirement already satisfied: pypdfium2>=4.18.0 in /usr/local/lib/python3.10/dist-packages (from pdfplumber) (4.30.0)\n",
            "Requirement already satisfied: charset-normalizer>=2.0.0 in /usr/local/lib/python3.10/dist-packages (from pdfminer.six==20231228->pdfplumber) (3.3.2)\n",
            "Requirement already satisfied: cryptography>=36.0.0 in /usr/local/lib/python3.10/dist-packages (from pdfminer.six==20231228->pdfplumber) (43.0.1)\n",
            "Requirement already satisfied: cffi>=1.12 in /usr/local/lib/python3.10/dist-packages (from cryptography>=36.0.0->pdfminer.six==20231228->pdfplumber) (1.17.1)\n",
            "Requirement already satisfied: pycparser in /usr/local/lib/python3.10/dist-packages (from cffi>=1.12->cryptography>=36.0.0->pdfminer.six==20231228->pdfplumber) (2.22)\n"
          ]
        }
      ]
    },
    {
      "cell_type": "code",
      "source": [
        "!pip install sentence_transformers"
      ],
      "metadata": {
        "colab": {
          "base_uri": "https://localhost:8080/"
        },
        "id": "agkH2sxQLZHe",
        "outputId": "e460513c-2e0b-4509-c969-479204e4dcde"
      },
      "execution_count": 3,
      "outputs": [
        {
          "output_type": "stream",
          "name": "stdout",
          "text": [
            "Requirement already satisfied: sentence_transformers in /usr/local/lib/python3.10/dist-packages (3.1.1)\n",
            "Requirement already satisfied: transformers<5.0.0,>=4.38.0 in /usr/local/lib/python3.10/dist-packages (from sentence_transformers) (4.44.2)\n",
            "Requirement already satisfied: tqdm in /usr/local/lib/python3.10/dist-packages (from sentence_transformers) (4.66.5)\n",
            "Requirement already satisfied: torch>=1.11.0 in /usr/local/lib/python3.10/dist-packages (from sentence_transformers) (2.4.1+cu121)\n",
            "Requirement already satisfied: scikit-learn in /usr/local/lib/python3.10/dist-packages (from sentence_transformers) (1.3.2)\n",
            "Requirement already satisfied: scipy in /usr/local/lib/python3.10/dist-packages (from sentence_transformers) (1.13.1)\n",
            "Requirement already satisfied: huggingface-hub>=0.19.3 in /usr/local/lib/python3.10/dist-packages (from sentence_transformers) (0.24.7)\n",
            "Requirement already satisfied: Pillow in /usr/local/lib/python3.10/dist-packages (from sentence_transformers) (10.4.0)\n",
            "Requirement already satisfied: filelock in /usr/local/lib/python3.10/dist-packages (from huggingface-hub>=0.19.3->sentence_transformers) (3.16.1)\n",
            "Requirement already satisfied: fsspec>=2023.5.0 in /usr/local/lib/python3.10/dist-packages (from huggingface-hub>=0.19.3->sentence_transformers) (2024.6.1)\n",
            "Requirement already satisfied: packaging>=20.9 in /usr/local/lib/python3.10/dist-packages (from huggingface-hub>=0.19.3->sentence_transformers) (24.1)\n",
            "Requirement already satisfied: pyyaml>=5.1 in /usr/local/lib/python3.10/dist-packages (from huggingface-hub>=0.19.3->sentence_transformers) (6.0.2)\n",
            "Requirement already satisfied: requests in /usr/local/lib/python3.10/dist-packages (from huggingface-hub>=0.19.3->sentence_transformers) (2.32.3)\n",
            "Requirement already satisfied: typing-extensions>=3.7.4.3 in /usr/local/lib/python3.10/dist-packages (from huggingface-hub>=0.19.3->sentence_transformers) (4.12.2)\n",
            "Requirement already satisfied: sympy in /usr/local/lib/python3.10/dist-packages (from torch>=1.11.0->sentence_transformers) (1.13.2)\n",
            "Requirement already satisfied: networkx in /usr/local/lib/python3.10/dist-packages (from torch>=1.11.0->sentence_transformers) (3.3)\n",
            "Requirement already satisfied: jinja2 in /usr/local/lib/python3.10/dist-packages (from torch>=1.11.0->sentence_transformers) (3.1.4)\n",
            "Requirement already satisfied: numpy>=1.17 in /usr/local/lib/python3.10/dist-packages (from transformers<5.0.0,>=4.38.0->sentence_transformers) (1.26.4)\n",
            "Requirement already satisfied: regex!=2019.12.17 in /usr/local/lib/python3.10/dist-packages (from transformers<5.0.0,>=4.38.0->sentence_transformers) (2024.9.11)\n",
            "Requirement already satisfied: safetensors>=0.4.1 in /usr/local/lib/python3.10/dist-packages (from transformers<5.0.0,>=4.38.0->sentence_transformers) (0.4.5)\n",
            "Requirement already satisfied: tokenizers<0.20,>=0.19 in /usr/local/lib/python3.10/dist-packages (from transformers<5.0.0,>=4.38.0->sentence_transformers) (0.19.1)\n",
            "Requirement already satisfied: joblib>=1.1.1 in /usr/local/lib/python3.10/dist-packages (from scikit-learn->sentence_transformers) (1.4.2)\n",
            "Requirement already satisfied: threadpoolctl>=2.0.0 in /usr/local/lib/python3.10/dist-packages (from scikit-learn->sentence_transformers) (3.5.0)\n",
            "Requirement already satisfied: MarkupSafe>=2.0 in /usr/local/lib/python3.10/dist-packages (from jinja2->torch>=1.11.0->sentence_transformers) (2.1.5)\n",
            "Requirement already satisfied: charset-normalizer<4,>=2 in /usr/local/lib/python3.10/dist-packages (from requests->huggingface-hub>=0.19.3->sentence_transformers) (3.3.2)\n",
            "Requirement already satisfied: idna<4,>=2.5 in /usr/local/lib/python3.10/dist-packages (from requests->huggingface-hub>=0.19.3->sentence_transformers) (3.10)\n",
            "Requirement already satisfied: urllib3<3,>=1.21.1 in /usr/local/lib/python3.10/dist-packages (from requests->huggingface-hub>=0.19.3->sentence_transformers) (2.0.7)\n",
            "Requirement already satisfied: certifi>=2017.4.17 in /usr/local/lib/python3.10/dist-packages (from requests->huggingface-hub>=0.19.3->sentence_transformers) (2024.8.30)\n",
            "Requirement already satisfied: mpmath<1.4,>=1.1.0 in /usr/local/lib/python3.10/dist-packages (from sympy->torch>=1.11.0->sentence_transformers) (1.3.0)\n"
          ]
        }
      ]
    },
    {
      "cell_type": "code",
      "source": [
        "import requests\n",
        "import pdfplumber\n",
        "import re\n",
        "from sentence_transformers import SentenceTransformer\n",
        "from sentence_transformers import SentenceTransformer\n",
        "from sklearn.neighbors import NearestNeighbors\n",
        "from transformers import GPT2LMHeadModel, GPT2Tokenizer\n"
      ],
      "metadata": {
        "colab": {
          "base_uri": "https://localhost:8080/"
        },
        "id": "UmgCZfzLUhII",
        "outputId": "85b65620-e24e-49d2-c2e8-a5ebc41ed9d5"
      },
      "execution_count": 4,
      "outputs": [
        {
          "output_type": "stream",
          "name": "stderr",
          "text": [
            "/usr/local/lib/python3.10/dist-packages/sentence_transformers/cross_encoder/CrossEncoder.py:13: TqdmExperimentalWarning: Using `tqdm.autonotebook.tqdm` in notebook mode. Use `tqdm.tqdm` instead to force console mode (e.g. in jupyter console)\n",
            "  from tqdm.autonotebook import tqdm, trange\n"
          ]
        }
      ]
    },
    {
      "cell_type": "markdown",
      "source": [
        "## Step 2: Load and process the PDF"
      ],
      "metadata": {
        "id": "kpA5qJ2fWG0f"
      }
    },
    {
      "cell_type": "code",
      "source": [
        "def load_book_text(pdf_path):\n",
        "    \"\"\"Load text from PDF using pdfplumber.\"\"\"\n",
        "    try:\n",
        "        with pdfplumber.open(pdf_path) as pdf:\n",
        "            text = \"\"\n",
        "            for page in pdf.pages:\n",
        "                text += page.extract_text()\n",
        "        return text\n",
        "    except Exception as e:\n",
        "        print(f\"Error loading PDF: {e}\")\n",
        "        return \"\""
      ],
      "metadata": {
        "id": "WXbPcRaJR0rl"
      },
      "execution_count": null,
      "outputs": []
    },
    {
      "cell_type": "markdown",
      "source": [
        "## Step 3: Split text into paragraphs"
      ],
      "metadata": {
        "id": "TYB65rRzYVYD"
      }
    },
    {
      "cell_type": "code",
      "source": [
        "def split_text_into_paragraphs(text):\n",
        "    \"\"\"Split the book text into paragraphs.\"\"\"\n",
        "    paragraphs = text.splitlines()  # Split by newlines\n",
        "    paragraphs = [p.strip() for p in paragraphs if p.strip()]  # Remove empty paragraphs\n",
        "    return paragraphs"
      ],
      "metadata": {
        "id": "8rbQGPujSAnW"
      },
      "execution_count": 10,
      "outputs": []
    },
    {
      "cell_type": "markdown",
      "source": [
        "## Step 4: Retrieve relevant passages"
      ],
      "metadata": {
        "id": "1Wm6ZrxdYbmf"
      }
    },
    {
      "cell_type": "code",
      "source": [
        "def retrieve_passages(query, paragraphs, paragraph_embeddings, model, k=5):\n",
        "    \"\"\"Find the k most similar paragraphs to the query.\"\"\"\n",
        "    query_embedding = model.encode([query])\n",
        "    nbrs = NearestNeighbors(n_neighbors=min(k, len(paragraphs)), metric='cosine').fit(paragraph_embeddings)\n",
        "    distances, indices = nbrs.kneighbors(query_embedding)\n",
        "    return [(paragraphs[i], distances[0][j]) for j, i in enumerate(indices[0])]"
      ],
      "metadata": {
        "id": "wEk6fUd8R9jy"
      },
      "execution_count": 11,
      "outputs": []
    },
    {
      "cell_type": "markdown",
      "source": [
        "## Step 5: Generate an answer using GPT"
      ],
      "metadata": {
        "id": "PwktWq2KYg8r"
      }
    },
    {
      "cell_type": "code",
      "source": [
        "def generate_answer(context, question, gpt_model, tokenizer):\n",
        "    \"\"\"Generate an answer using GPT-2 based on the context.\"\"\"\n",
        "    input_text = f\"Context: {context}\\nQuestion: {question}\\nAnswer:\"\n",
        "    inputs = tokenizer.encode(input_text, return_tensors=\"pt\")\n",
        "    outputs = gpt_model.generate(inputs, max_length=200, num_return_sequences=1)\n",
        "    return tokenizer.decode(outputs[0], skip_special_tokens=True)"
      ],
      "metadata": {
        "id": "yc5s_IgbR6c_"
      },
      "execution_count": 15,
      "outputs": []
    },
    {
      "cell_type": "code",
      "source": [
        "# Load models\n",
        "st_model = SentenceTransformer('sentence-transformers/all-MiniLM-L6-v2')\n",
        "gpt_model = GPT2LMHeadModel.from_pretrained(\"gpt2\")  # GPT-2 model\n",
        "tokenizer = GPT2Tokenizer.from_pretrained(\"gpt2\")  # GPT-2 tokenizer"
      ],
      "metadata": {
        "id": "hZoDpxVlYo-7"
      },
      "execution_count": 16,
      "outputs": []
    },
    {
      "cell_type": "markdown",
      "source": [
        "## Step 6: Main function to run the question-answer system"
      ],
      "metadata": {
        "id": "LepgJq7AY0_2"
      }
    },
    {
      "cell_type": "code",
      "source": [
        "def main():\n",
        "    # Load the book\n",
        "    pdf_path = \"Principles_of_Finance.pdf\"\n",
        "    book_text = load_book_text(pdf_path)\n",
        "\n",
        "    if not book_text:\n",
        "        print(\"Could not load the book. Please check the PDF file path.\")\n",
        "        return\n",
        "\n",
        "    # Preprocess the text\n",
        "    paragraphs = split_text_into_paragraphs(book_text)\n",
        "    print(f\"Loaded {len(paragraphs)} paragraphs from the book.\")\n",
        "\n",
        "    # Encode paragraphs\n",
        "    paragraph_embeddings = st_model.encode(paragraphs)\n",
        "\n",
        "    # Ask user for a question\n",
        "    question = input(\"Enter your question: \")\n",
        "\n",
        "    # Retrieve relevant passages\n",
        "    relevant_passages = retrieve_passages(question, paragraphs, paragraph_embeddings, st_model, k=5)\n",
        "    context = \" \".join([p[0] for p in relevant_passages])  # Concatenate relevant passages\n",
        "\n",
        "    print(\"\\nRelevant passages:\")\n",
        "    for passage, distance in relevant_passages:\n",
        "        print(f\"{passage} (similarity: {1 - distance:.2f})\")\n",
        "\n",
        "    # Generate an answer\n",
        "    answer = generate_answer(context, question, gpt_model, tokenizer)\n",
        "    print(\"\\nAnswer:\")\n",
        "    print(answer)\n",
        "\n",
        "# Run the main function\n",
        "if __name__ == \"__main__\":\n",
        "    main()"
      ],
      "metadata": {
        "colab": {
          "base_uri": "https://localhost:8080/"
        },
        "id": "rHirI5vhR3Au",
        "outputId": "0940268c-1f10-4e2b-efe3-f6ea5fd78d1f"
      },
      "execution_count": 20,
      "outputs": [
        {
          "name": "stdout",
          "output_type": "stream",
          "text": [
            "Loaded 20665 paragraphs from the book.\n",
            "Enter your question: What is the time value of money?\n"
          ]
        },
        {
          "output_type": "stream",
          "name": "stderr",
          "text": [
            "The attention mask and the pad token id were not set. As a consequence, you may observe unexpected behavior. Please pass your input's `attention_mask` to obtain reliable results.\n",
            "Setting `pad_token_id` to `eos_token_id`:50256 for open-end generation.\n",
            "The attention mask is not set and cannot be inferred from input because pad token is same as eos token. As a consequence, you may observe unexpected behavior. Please pass your input's `attention_mask` to obtain reliable results.\n"
          ]
        },
        {
          "output_type": "stream",
          "name": "stdout",
          "text": [
            "\n",
            "Relevant passages:\n",
            "This chapter has explored the time value of money by expanding on the concepts discussed inTime Value of (similarity: 0.85)\n",
            "How and Why the Passage of Time Affects the Value of Money (similarity: 0.80)\n",
            "• Explain why time has an impact on the value of money. (similarity: 0.77)\n",
            "revolve around the issue of the time value of money. (similarity: 0.77)\n",
            "The entire concept of the time value of money is particularly important because it allows savers and investors (similarity: 0.77)\n",
            "\n",
            "Answer:\n",
            "Context: This chapter has explored the time value of money by expanding on the concepts discussed inTime Value of How and Why the Passage of Time Affects the Value of Money • Explain why time has an impact on the value of money. revolve around the issue of the time value of money. The entire concept of the time value of money is particularly important because it allows savers and investors\n",
            "Question: What is the time value of money?\n",
            "Answer: The time value of money is the sum of the time value of money and the time value of money. The time value of money is the sum of the time value of money and the time value of money. The time value of money is the sum of the time value of money and the time value of money. The time value of money is the sum of the time value of money and the time value of money. The time value of money is the sum of the time value of money and the time value of money. The time value\n"
          ]
        }
      ]
    }
  ]
}